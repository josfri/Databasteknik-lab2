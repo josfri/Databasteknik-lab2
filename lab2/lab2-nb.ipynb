{
 "cells": [
  {
   "cell_type": "markdown",
   "id": "01468cc1",
   "metadata": {},
   "source": [
    "<!-- -*- mode: markdown; coding: utf-8; fill-column: 60; ispell-dictionary: \"english\" -*- -->\n",
    "\n",
    "<meta charset=\"utf-8\"/>\n",
    "<meta name=\"viewport\" content=\"width=device-width,initial-scale=1\"/>\n",
    "<link rel=\"stylesheet\" href=\"style.css\">\n",
    "\n",
    "\n",
    "# EDAF75 - lab 2: Testing the database\n",
    "\n",
    "As usual we have to tell Jupyter to allow SQL:"
   ]
  },
  {
   "cell_type": "code",
   "execution_count": 1,
   "id": "2b794159",
   "metadata": {},
   "outputs": [],
   "source": [
    "%load_ext sql"
   ]
  },
  {
   "cell_type": "markdown",
   "id": "62d21dba",
   "metadata": {},
   "source": [
    "And then we import our movie database"
   ]
  },
  {
   "cell_type": "code",
   "execution_count": 2,
   "id": "bd6966ac",
   "metadata": {},
   "outputs": [],
   "source": [
    "%sql sqlite:///movies.sqlite"
   ]
  },
  {
   "cell_type": "markdown",
   "id": "6356b442",
   "metadata": {},
   "source": [
    "We want to make sure that SQLite3 really checks our foreign\n",
    "key constraints -- to do that, we run:"
   ]
  },
  {
   "cell_type": "code",
   "execution_count": 3,
   "id": "a44e461e",
   "metadata": {},
   "outputs": [
    {
     "name": "stdout",
     "output_type": "stream",
     "text": [
      " * sqlite:///movies.sqlite\n",
      "Done.\n"
     ]
    },
    {
     "data": {
      "text/plain": [
       "[]"
      ]
     },
     "execution_count": 3,
     "metadata": {},
     "output_type": "execute_result"
    }
   ],
   "source": [
    "%%sql\n",
    "PRAGMA foreign_keys=ON;"
   ]
  },
  {
   "cell_type": "markdown",
   "id": "f1ec403c",
   "metadata": {},
   "source": [
    "Now write SQL code for the following tasks:\n",
    "\n",
    "\n",
    "+ Show the names of all movies."
   ]
  },
  {
   "cell_type": "code",
   "execution_count": 4,
   "id": "f5f8ab1e",
   "metadata": {},
   "outputs": [
    {
     "name": "stdout",
     "output_type": "stream",
     "text": [
      " * sqlite:///movies.sqlite\n",
      "Done.\n"
     ]
    },
    {
     "data": {
      "text/html": [
       "<table>\n",
       "    <thead>\n",
       "        <tr>\n",
       "            <th>title</th>\n",
       "        </tr>\n",
       "    </thead>\n",
       "    <tbody>\n",
       "        <tr>\n",
       "            <td>Inception</td>\n",
       "        </tr>\n",
       "        <tr>\n",
       "            <td>The Godfather</td>\n",
       "        </tr>\n",
       "        <tr>\n",
       "            <td>Interstellar</td>\n",
       "        </tr>\n",
       "        <tr>\n",
       "            <td>The Dark Knight</td>\n",
       "        </tr>\n",
       "        <tr>\n",
       "            <td>Pulp Fiction</td>\n",
       "        </tr>\n",
       "        <tr>\n",
       "            <td>Forrest Gump</td>\n",
       "        </tr>\n",
       "        <tr>\n",
       "            <td>The Matrix</td>\n",
       "        </tr>\n",
       "    </tbody>\n",
       "</table>"
      ],
      "text/plain": [
       "[('Inception',),\n",
       " ('The Godfather',),\n",
       " ('Interstellar',),\n",
       " ('The Dark Knight',),\n",
       " ('Pulp Fiction',),\n",
       " ('Forrest Gump',),\n",
       " ('The Matrix',)]"
      ]
     },
     "execution_count": 4,
     "metadata": {},
     "output_type": "execute_result"
    }
   ],
   "source": [
    "%%sql\n",
    "SELECT title\n",
    "FROM movies \n"
   ]
  },
  {
   "cell_type": "markdown",
   "id": "da8a0fa1",
   "metadata": {},
   "source": [
    "+ Show the performance dates for one of the movies."
   ]
  },
  {
   "cell_type": "code",
   "execution_count": 5,
   "id": "b9f108cf",
   "metadata": {},
   "outputs": [
    {
     "name": "stdout",
     "output_type": "stream",
     "text": [
      " * sqlite:///movies.sqlite\n",
      "Done.\n"
     ]
    },
    {
     "data": {
      "text/html": [
       "<table>\n",
       "    <thead>\n",
       "        <tr>\n",
       "            <th>date</th>\n",
       "        </tr>\n",
       "    </thead>\n",
       "    <tbody>\n",
       "        <tr>\n",
       "            <td>2023-04-10</td>\n",
       "        </tr>\n",
       "        <tr>\n",
       "            <td>2023-04-11</td>\n",
       "        </tr>\n",
       "        <tr>\n",
       "            <td>2023-04-12</td>\n",
       "        </tr>\n",
       "        <tr>\n",
       "            <td>2023-04-13</td>\n",
       "        </tr>\n",
       "        <tr>\n",
       "            <td>2023-04-14</td>\n",
       "        </tr>\n",
       "        <tr>\n",
       "            <td>2023-04-15</td>\n",
       "        </tr>\n",
       "        <tr>\n",
       "            <td>2023-04-16</td>\n",
       "        </tr>\n",
       "        <tr>\n",
       "            <td>2023-04-17</td>\n",
       "        </tr>\n",
       "        <tr>\n",
       "            <td>2023-04-18</td>\n",
       "        </tr>\n",
       "        <tr>\n",
       "            <td>2023-04-19</td>\n",
       "        </tr>\n",
       "        <tr>\n",
       "            <td>2023-04-20</td>\n",
       "        </tr>\n",
       "    </tbody>\n",
       "</table>"
      ],
      "text/plain": [
       "[('2023-04-10',),\n",
       " ('2023-04-11',),\n",
       " ('2023-04-12',),\n",
       " ('2023-04-13',),\n",
       " ('2023-04-14',),\n",
       " ('2023-04-15',),\n",
       " ('2023-04-16',),\n",
       " ('2023-04-17',),\n",
       " ('2023-04-18',),\n",
       " ('2023-04-19',),\n",
       " ('2023-04-20',)]"
      ]
     },
     "execution_count": 5,
     "metadata": {},
     "output_type": "execute_result"
    }
   ],
   "source": [
    "%%sql\n",
    "SELECT DISTINCT date \n",
    "FROM movies JOIN performances\n",
    "WHERE title = \"Inception\""
   ]
  },
  {
   "cell_type": "markdown",
   "id": "cb725da1",
   "metadata": {},
   "source": [
    "+ Show all data concerning performances at a given theatere\n",
    "  on a given date."
   ]
  },
  {
   "cell_type": "code",
   "execution_count": 25,
   "id": "cad66c60",
   "metadata": {},
   "outputs": [
    {
     "name": "stdout",
     "output_type": "stream",
     "text": [
      " * sqlite:///movies.sqlite\n",
      "Done.\n"
     ]
    },
    {
     "data": {
      "text/html": [
       "<table>\n",
       "    <thead>\n",
       "        <tr>\n",
       "            <th>title</th>\n",
       "            <th>date</th>\n",
       "            <th>start_time</th>\n",
       "            <th>run_time</th>\n",
       "        </tr>\n",
       "    </thead>\n",
       "    <tbody>\n",
       "        <tr>\n",
       "            <td>The Godfather</td>\n",
       "            <td>2023-04-17</td>\n",
       "            <td>17:00</td>\n",
       "            <td>175</td>\n",
       "        </tr>\n",
       "        <tr>\n",
       "            <td>Pulp Fiction</td>\n",
       "            <td>2023-04-17</td>\n",
       "            <td>23:00</td>\n",
       "            <td>154</td>\n",
       "        </tr>\n",
       "    </tbody>\n",
       "</table>"
      ],
      "text/plain": [
       "[('The Godfather', '2023-04-17', '17:00', 175),\n",
       " ('Pulp Fiction', '2023-04-17', '23:00', 154)]"
      ]
     },
     "execution_count": 25,
     "metadata": {},
     "output_type": "execute_result"
    }
   ],
   "source": [
    "%%sql\n",
    "SELECT title, date, start_time, run_time\n",
    "FROM performances LEFT OUTER JOIN movies USING (imdb)\n",
    "WHERE date = '2023-04-17' AND theater_name = 'Sergel'"
   ]
  },
  {
   "cell_type": "markdown",
   "id": "ee341e96",
   "metadata": {},
   "source": [
    "+ List all customers"
   ]
  },
  {
   "cell_type": "code",
   "execution_count": 11,
   "id": "16959d33",
   "metadata": {},
   "outputs": [
    {
     "name": "stdout",
     "output_type": "stream",
     "text": [
      " * sqlite:///movies.sqlite\n",
      "Done.\n"
     ]
    },
    {
     "data": {
      "text/html": [
       "<table>\n",
       "    <thead>\n",
       "        <tr>\n",
       "            <th>username</th>\n",
       "            <th>full_name</th>\n",
       "        </tr>\n",
       "    </thead>\n",
       "    <tbody>\n",
       "        <tr>\n",
       "            <td>Fabian</td>\n",
       "            <td>Fabian Rosen</td>\n",
       "        </tr>\n",
       "        <tr>\n",
       "            <td>josfri</td>\n",
       "            <td>Josefine Frid</td>\n",
       "        </tr>\n",
       "        <tr>\n",
       "            <td>Fremja</td>\n",
       "            <td>Fremja Ekre</td>\n",
       "        </tr>\n",
       "        <tr>\n",
       "            <td>leoDicap</td>\n",
       "            <td>Leonardo DiCaprio</td>\n",
       "        </tr>\n",
       "        <tr>\n",
       "            <td>beyKnow</td>\n",
       "            <td>Beyonce Knowles</td>\n",
       "        </tr>\n",
       "        <tr>\n",
       "            <td>tomCruise</td>\n",
       "            <td>Tom Cruise</td>\n",
       "        </tr>\n",
       "        <tr>\n",
       "            <td>tSwift</td>\n",
       "            <td>Taylor Swift</td>\n",
       "        </tr>\n",
       "        <tr>\n",
       "            <td>rdjIron</td>\n",
       "            <td>Robert Downey Jr.</td>\n",
       "        </tr>\n",
       "        <tr>\n",
       "            <td>scarJo</td>\n",
       "            <td>Scarlett Johansson</td>\n",
       "        </tr>\n",
       "        <tr>\n",
       "            <td>chrEvans</td>\n",
       "            <td>Chris Evans</td>\n",
       "        </tr>\n",
       "        <tr>\n",
       "            <td>emmaStone</td>\n",
       "            <td>Emma Stone</td>\n",
       "        </tr>\n",
       "        <tr>\n",
       "            <td>johnnyDepp</td>\n",
       "            <td>Johnny Depp</td>\n",
       "        </tr>\n",
       "        <tr>\n",
       "            <td>jenAni</td>\n",
       "            <td>Jennifer Aniston</td>\n",
       "        </tr>\n",
       "    </tbody>\n",
       "</table>"
      ],
      "text/plain": [
       "[('Fabian', 'Fabian Rosen'),\n",
       " ('josfri', 'Josefine Frid'),\n",
       " ('Fremja', 'Fremja Ekre'),\n",
       " ('leoDicap', 'Leonardo DiCaprio'),\n",
       " ('beyKnow', 'Beyonce Knowles'),\n",
       " ('tomCruise', 'Tom Cruise'),\n",
       " ('tSwift', 'Taylor Swift'),\n",
       " ('rdjIron', 'Robert Downey Jr.'),\n",
       " ('scarJo', 'Scarlett Johansson'),\n",
       " ('chrEvans', 'Chris Evans'),\n",
       " ('emmaStone', 'Emma Stone'),\n",
       " ('johnnyDepp', 'Johnny Depp'),\n",
       " ('jenAni', 'Jennifer Aniston')]"
      ]
     },
     "execution_count": 11,
     "metadata": {},
     "output_type": "execute_result"
    }
   ],
   "source": [
    "%%sql\n",
    "SELECT username, full_name\n",
    "FROM customers"
   ]
  },
  {
   "cell_type": "markdown",
   "id": "cd63c124",
   "metadata": {},
   "source": [
    "+ List all tickets"
   ]
  },
  {
   "cell_type": "code",
   "execution_count": 29,
   "id": "d7966544",
   "metadata": {},
   "outputs": [
    {
     "name": "stdout",
     "output_type": "stream",
     "text": [
      " * sqlite:///movies.sqlite\n",
      "Done.\n"
     ]
    },
    {
     "data": {
      "text/html": [
       "<table>\n",
       "    <thead>\n",
       "        <tr>\n",
       "            <th>ticket_id</th>\n",
       "            <th>full_name</th>\n",
       "            <th>title</th>\n",
       "            <th>start_time</th>\n",
       "            <th>theater_name</th>\n",
       "        </tr>\n",
       "    </thead>\n",
       "    <tbody>\n",
       "        <tr>\n",
       "            <td>18522cdaa1d80d18da6938213c724e99</td>\n",
       "            <td>Leonardo DiCaprio</td>\n",
       "            <td>Interstellar</td>\n",
       "            <td>23:00</td>\n",
       "            <td>Sergel</td>\n",
       "        </tr>\n",
       "        <tr>\n",
       "            <td>cbef188c11313eaebfa061845560d1cb</td>\n",
       "            <td>Beyonce Knowles</td>\n",
       "            <td>Interstellar</td>\n",
       "            <td>23:00</td>\n",
       "            <td>Sergel</td>\n",
       "        </tr>\n",
       "        <tr>\n",
       "            <td>50f773eef0252dabee8f890227648cd5</td>\n",
       "            <td>Tom Cruise</td>\n",
       "            <td>Interstellar</td>\n",
       "            <td>23:00</td>\n",
       "            <td>Sergel</td>\n",
       "        </tr>\n",
       "        <tr>\n",
       "            <td>ce1259540ebd7edf2107ebafa3a1834d</td>\n",
       "            <td>Taylor Swift</td>\n",
       "            <td>Interstellar</td>\n",
       "            <td>19:00</td>\n",
       "            <td>Rigoletto</td>\n",
       "        </tr>\n",
       "        <tr>\n",
       "            <td>d9d55e7c4d32908485348f15aca0afaf</td>\n",
       "            <td>Robert Downey Jr.</td>\n",
       "            <td>Interstellar</td>\n",
       "            <td>19:00</td>\n",
       "            <td>Rigoletto</td>\n",
       "        </tr>\n",
       "        <tr>\n",
       "            <td>7aefa204542597c45b1432168b5e42fc</td>\n",
       "            <td>Scarlett Johansson</td>\n",
       "            <td>Interstellar</td>\n",
       "            <td>19:00</td>\n",
       "            <td>Rigoletto</td>\n",
       "        </tr>\n",
       "        <tr>\n",
       "            <td>79a7b97c138fdee51ebc7bcb29f67b24</td>\n",
       "            <td>Chris Evans</td>\n",
       "            <td>Interstellar</td>\n",
       "            <td>19:00</td>\n",
       "            <td>Rigoletto</td>\n",
       "        </tr>\n",
       "        <tr>\n",
       "            <td>ca62c8c4752174e109c66ab8419273a5</td>\n",
       "            <td>Emma Stone</td>\n",
       "            <td>The Dark Knight</td>\n",
       "            <td>21:00</td>\n",
       "            <td>Grand Stockholm</td>\n",
       "        </tr>\n",
       "        <tr>\n",
       "            <td>233e1b4ccfdda602fa3443eacdcd78b9</td>\n",
       "            <td>Johnny Depp</td>\n",
       "            <td>The Dark Knight</td>\n",
       "            <td>21:00</td>\n",
       "            <td>Grand Stockholm</td>\n",
       "        </tr>\n",
       "        <tr>\n",
       "            <td>e15a88315ff23e0f06f5900420280873</td>\n",
       "            <td>Jennifer Aniston</td>\n",
       "            <td>The Dark Knight</td>\n",
       "            <td>21:00</td>\n",
       "            <td>Grand Stockholm</td>\n",
       "        </tr>\n",
       "        <tr>\n",
       "            <td>dc44c11e47606e5f1bfc84c40f331f50</td>\n",
       "            <td>Leonardo DiCaprio</td>\n",
       "            <td>The Dark Knight</td>\n",
       "            <td>21:00</td>\n",
       "            <td>Grand Stockholm</td>\n",
       "        </tr>\n",
       "        <tr>\n",
       "            <td>4993bd26b893197c74dab02a52b540c7</td>\n",
       "            <td>Josefine Frid</td>\n",
       "            <td>The Godfather</td>\n",
       "            <td>17:00</td>\n",
       "            <td>Sergel</td>\n",
       "        </tr>\n",
       "    </tbody>\n",
       "</table>"
      ],
      "text/plain": [
       "[('18522cdaa1d80d18da6938213c724e99', 'Leonardo DiCaprio', 'Interstellar', '23:00', 'Sergel'),\n",
       " ('cbef188c11313eaebfa061845560d1cb', 'Beyonce Knowles', 'Interstellar', '23:00', 'Sergel'),\n",
       " ('50f773eef0252dabee8f890227648cd5', 'Tom Cruise', 'Interstellar', '23:00', 'Sergel'),\n",
       " ('ce1259540ebd7edf2107ebafa3a1834d', 'Taylor Swift', 'Interstellar', '19:00', 'Rigoletto'),\n",
       " ('d9d55e7c4d32908485348f15aca0afaf', 'Robert Downey Jr.', 'Interstellar', '19:00', 'Rigoletto'),\n",
       " ('7aefa204542597c45b1432168b5e42fc', 'Scarlett Johansson', 'Interstellar', '19:00', 'Rigoletto'),\n",
       " ('79a7b97c138fdee51ebc7bcb29f67b24', 'Chris Evans', 'Interstellar', '19:00', 'Rigoletto'),\n",
       " ('ca62c8c4752174e109c66ab8419273a5', 'Emma Stone', 'The Dark Knight', '21:00', 'Grand Stockholm'),\n",
       " ('233e1b4ccfdda602fa3443eacdcd78b9', 'Johnny Depp', 'The Dark Knight', '21:00', 'Grand Stockholm'),\n",
       " ('e15a88315ff23e0f06f5900420280873', 'Jennifer Aniston', 'The Dark Knight', '21:00', 'Grand Stockholm'),\n",
       " ('dc44c11e47606e5f1bfc84c40f331f50', 'Leonardo DiCaprio', 'The Dark Knight', '21:00', 'Grand Stockholm'),\n",
       " ('4993bd26b893197c74dab02a52b540c7', 'Josefine Frid', 'The Godfather', '17:00', 'Sergel')]"
      ]
     },
     "execution_count": 29,
     "metadata": {},
     "output_type": "execute_result"
    }
   ],
   "source": [
    "%%sql\n",
    "SELECT ticket_id, full_name, title, start_time, theater_name\n",
    "FROM tickets JOIN performances USING(performance_id) JOIN movies USING(imdb) JOIN customers USING (username)"
   ]
  },
  {
   "cell_type": "markdown",
   "id": "9d449fa3",
   "metadata": {},
   "source": [
    "+ Create a new ticket to some performance (i.e., insert a\n",
    "  new row in your table of tickets)."
   ]
  },
  {
   "cell_type": "code",
   "execution_count": 28,
   "id": "614a96cd",
   "metadata": {},
   "outputs": [
    {
     "name": "stdout",
     "output_type": "stream",
     "text": [
      " * sqlite:///movies.sqlite\n",
      "0 rows affected.\n"
     ]
    },
    {
     "data": {
      "text/html": [
       "<table>\n",
       "    <thead>\n",
       "        <tr>\n",
       "            <th>ticket_id</th>\n",
       "        </tr>\n",
       "    </thead>\n",
       "    <tbody>\n",
       "        <tr>\n",
       "            <td>4993bd26b893197c74dab02a52b540c7</td>\n",
       "        </tr>\n",
       "    </tbody>\n",
       "</table>"
      ],
      "text/plain": [
       "[('4993bd26b893197c74dab02a52b540c7',)]"
      ]
     },
     "execution_count": 28,
     "metadata": {},
     "output_type": "execute_result"
    }
   ],
   "source": [
    "%%sql\n",
    "INSERT \n",
    "INTO  tickets (username, performance_id)\n",
    "VALUES   ('josfri', '7e9a97af3eb4a66c3c1b9bd4a0e88f98')\n",
    "RETURNING  ticket_id"
   ]
  },
  {
   "cell_type": "markdown",
   "id": "ebd7d10a",
   "metadata": {},
   "source": [
    "In newer versions of SQLite (since version 3.35, released\n",
    "  in March 2021), and in\n",
    "  [PostgreSQL](https://www.postgresql.org/docs/current/sql-insert.html),\n",
    "  we can get any value generated during an insert using the\n",
    "  `INSERT...-RETURNING` statement:"
   ]
  },
  {
   "cell_type": "markdown",
   "id": "2a386701",
   "metadata": {},
   "source": [
    "~~~{.sql}\n",
    "INSERT\n",
    "INTO       students\n",
    "VALUES     ('Amy', 3.9, 1200)\n",
    "RETURNING  s_id\n",
    "~~~\n"
   ]
  },
  {
   "cell_type": "markdown",
   "id": "1b2f1639",
   "metadata": {},
   "source": [
    "which would return the generated `s_id` for the new\n",
    "  student.\n",
    "\n",
    "  If your SQLite version is older than 3.35, and you can't\n",
    "  upgrade, you can instead use the following idea: each row\n",
    "  in a SQLite3 table has a `rowid` attribute, it is a unique\n",
    "  integer which essentially tells in which order the rows\n",
    "  were inserted, and it's not displayed in queries unless we\n",
    "  ask for it. SQLite3 also have a function,\n",
    "  `last_insert_rowid()`, which returns the `rowid` of the\n",
    "  last inserted row of a table, so we can see the `s_id` of\n",
    "  the most recently inserted student with the following\n",
    "  query:"
   ]
  },
  {
   "cell_type": "markdown",
   "id": "759da24d",
   "metadata": {},
   "source": [
    "~~~{.sql}\n",
    "SELECT s_id\n",
    "FROM   students\n",
    "WHERE  rowid = last_insert_rowid();\n",
    "~~~\n"
   ]
  },
  {
   "cell_type": "markdown",
   "id": "508330ad",
   "metadata": {},
   "source": [
    "Now, check what ticket number we got for the ticket we\n",
    "  created above (it should be the same as the ticket id,\n",
    "  which should be a `randomblob`):"
   ]
  },
  {
   "cell_type": "code",
   "execution_count": 30,
   "id": "813c7f0f",
   "metadata": {},
   "outputs": [
    {
     "name": "stdout",
     "output_type": "stream",
     "text": [
      " * sqlite:///movies.sqlite\n",
      "Done.\n"
     ]
    },
    {
     "data": {
      "text/html": [
       "<table>\n",
       "    <thead>\n",
       "        <tr>\n",
       "            <th>ticket_id</th>\n",
       "        </tr>\n",
       "    </thead>\n",
       "    <tbody>\n",
       "        <tr>\n",
       "            <td>4993bd26b893197c74dab02a52b540c7</td>\n",
       "        </tr>\n",
       "    </tbody>\n",
       "</table>"
      ],
      "text/plain": [
       "[('4993bd26b893197c74dab02a52b540c7',)]"
      ]
     },
     "execution_count": 30,
     "metadata": {},
     "output_type": "execute_result"
    }
   ],
   "source": [
    "%%sql\n",
    "SELECT ticket_id\n",
    "FROM tickets\n",
    "WHERE username = 'josfri'"
   ]
  },
  {
   "cell_type": "markdown",
   "id": "cdf20eda",
   "metadata": {},
   "source": [
    "+ Try to insert two movie theaters with the same name (this\n",
    "  should fail)."
   ]
  },
  {
   "cell_type": "code",
   "execution_count": 37,
   "id": "2ab0f4da",
   "metadata": {},
   "outputs": [
    {
     "name": "stdout",
     "output_type": "stream",
     "text": [
      " * sqlite:///movies.sqlite\n",
      "(sqlite3.IntegrityError) UNIQUE constraint failed: theaters.theater_name\n",
      "[SQL: INSERT\n",
      "INTO theaters (theater_name, capacity) VALUES\n",
      "('Grand Danderyd', 50),\n",
      "('Grand  Danderyd', 100);]\n",
      "(Background on this error at: https://sqlalche.me/e/20/gkpj)\n"
     ]
    }
   ],
   "source": [
    "%%sql\n",
    "INSERT\n",
    "INTO theaters (theater_name, capacity) VALUES\n",
    "('Grand Danderyd', 50),\n",
    "('Grand  Danderyd', 100);"
   ]
  },
  {
   "cell_type": "markdown",
   "id": "dc10549f",
   "metadata": {},
   "source": [
    "+ Try to insert a performance where the theater doesnâ€™t\n",
    "  exist in the database (this should fail)."
   ]
  },
  {
   "cell_type": "code",
   "execution_count": 41,
   "id": "7b8e78d3",
   "metadata": {},
   "outputs": [
    {
     "name": "stdout",
     "output_type": "stream",
     "text": [
      " * sqlite:///movies.sqlite\n",
      "1 rows affected.\n"
     ]
    },
    {
     "data": {
      "text/plain": [
       "[]"
      ]
     },
     "execution_count": 41,
     "metadata": {},
     "output_type": "execute_result"
    }
   ],
   "source": [
    "%%sql\n",
    "INSERT\n",
    "INTO performances (theater_name, start_time, date, imdb) VALUES\n",
    "('Grand Lidingö', '19:00', '2023-01-15', 'tt0068646')"
   ]
  },
  {
   "cell_type": "markdown",
   "id": "32dd166c",
   "metadata": {},
   "source": [
    "+ Create a ticket where either the user or the performance\n",
    "  doesnâ€™t exist (this should fail)."
   ]
  },
  {
   "cell_type": "code",
   "execution_count": 45,
   "id": "02dbd8a2",
   "metadata": {},
   "outputs": [
    {
     "name": "stdout",
     "output_type": "stream",
     "text": [
      " * sqlite:///movies.sqlite\n",
      "(sqlite3.IntegrityError) FOREIGN KEY constraint failed\n",
      "[SQL: INSERT \n",
      "INTO  tickets (username, performance_id)\n",
      "VALUES   ('tomhanks', '7e9a97af3eb4a66c3c1b9bd4a0e88f98')\n",
      "RETURNING  ticket_id]\n",
      "(Background on this error at: https://sqlalche.me/e/20/gkpj)\n"
     ]
    }
   ],
   "source": [
    "%%sql\n",
    "INSERT \n",
    "INTO  tickets (username, performance_id)\n",
    "VALUES   ('tomhanks', '7e9a97af3eb4a66c3c1b9bd4a0e88f98')\n",
    "RETURNING  ticket_id"
   ]
  },
  {
   "cell_type": "code",
   "execution_count": 44,
   "id": "c4a34886",
   "metadata": {},
   "outputs": [
    {
     "name": "stdout",
     "output_type": "stream",
     "text": [
      " * sqlite:///movies.sqlite\n",
      "(sqlite3.IntegrityError) FOREIGN KEY constraint failed\n",
      "[SQL: INSERT \n",
      "INTO  tickets (username, performance_id)\n",
      "VALUES   ('josfri', '7e9a97af3eb4a66c3c1b9bd4a0e11f98')\n",
      "RETURNING  ticket_id]\n",
      "(Background on this error at: https://sqlalche.me/e/20/gkpj)\n"
     ]
    }
   ],
   "source": [
    "%%sql\n",
    "INSERT \n",
    "INTO  tickets (username, performance_id)\n",
    "VALUES   ('josfri', '7e9a97af3eb4a66c3c1b9bd4a0e11f98')\n",
    "RETURNING  ticket_id"
   ]
  }
 ],
 "metadata": {
  "kernelspec": {
   "display_name": "Python 3",
   "language": "python",
   "name": "python3"
  },
  "language_info": {
   "codemirror_mode": {
    "name": "ipython",
    "version": 3
   },
   "file_extension": ".py",
   "mimetype": "text/x-python",
   "name": "python",
   "nbconvert_exporter": "python",
   "pygments_lexer": "ipython3",
   "version": "3.11.4"
  }
 },
 "nbformat": 4,
 "nbformat_minor": 5
}
